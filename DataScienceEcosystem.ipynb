{
 "cells": [
  {
   "cell_type": "markdown",
   "id": "5e458289-65c0-4fb5-8f1a-b2ef318f5657",
   "metadata": {},
   "source": [
    "# Data Science Tools and Ecosystem"
   ]
  },
  {
   "cell_type": "markdown",
   "id": "f421824a-eb35-46af-ac40-38f615bbe5b6",
   "metadata": {},
   "source": [
    "In this notebook, Data Science Tools and Ecosystem are summarized.\n"
   ]
  },
  {
   "cell_type": "markdown",
   "id": "c4d3a84b-b4a4-4df3-8f8b-25cbe0344dc5",
   "metadata": {},
   "source": [
    "### Some of the popular languages that Data Scientists use are:"
   ]
  },
  {
   "cell_type": "markdown",
   "id": "fd06e55a-27c0-45a5-992c-e62acfeb1f20",
   "metadata": {},
   "source": [
    "<ol>\n",
    "    <li>Python</li>\n",
    "    <li>R</li>\n",
    "    <li>SQL</li>\n",
    "    <li>Java</li>\n",
    "    <li>Julia</li>\n",
    "</ol>"
   ]
  },
  {
   "cell_type": "markdown",
   "id": "895f8b17-f80c-461f-a029-533bfe5b9f20",
   "metadata": {},
   "source": [
    "### Some of the commonly used libraries used by Data Scientists include:"
   ]
  },
  {
   "cell_type": "markdown",
   "id": "c2261304-b5a8-488b-b90f-152694e42e8b",
   "metadata": {},
   "source": [
    "<ol>\n",
    "    <li>NumPy</li>\n",
    "    <li>pandas</li>\n",
    "    <li>Scikit-learn</li>\n",
    "    <li>TensorFlow</li>\n",
    "    <li>ggplot2</li>\n",
    "</ol>"
   ]
  },
  {
   "cell_type": "markdown",
   "id": "7341b0b7-a6a4-4b45-9c8d-cfc33ef24acf",
   "metadata": {},
   "source": [
    "| Data Science Tools         |\n",
    "|----------------------------|\n",
    "| Jupyter Notebook            |\n",
    "| RStudio                     |\n",
    "| Apache Zeppelin             |"
   ]
  },
  {
   "cell_type": "markdown",
   "id": "68e9fdac-bf95-47da-a692-b9e253cd0fad",
   "metadata": {},
   "source": [
    "### Below are a few examples of evaluating arithmetic expressions in Python."
   ]
  },
  {
   "cell_type": "code",
   "execution_count": 38,
   "id": "cc7d4ccd-7ffe-47e7-8408-684d735385c1",
   "metadata": {},
   "outputs": [
    {
     "data": {
      "text/plain": [
       "17"
      ]
     },
     "execution_count": 38,
     "metadata": {},
     "output_type": "execute_result"
    }
   ],
   "source": [
    "# This is a simple arithmetic expression to multiply then add integers\n",
    "(3*4) + 5"
   ]
  },
  {
   "cell_type": "code",
   "execution_count": 42,
   "id": "5e8f99a7-6175-449f-8424-de552bbe8982",
   "metadata": {},
   "outputs": [
    {
     "data": {
      "text/plain": [
       "3.3333333333333335"
      ]
     },
     "execution_count": 42,
     "metadata": {},
     "output_type": "execute_result"
    }
   ],
   "source": [
    " #This will convert 200 minutes to hours by diving by 60\n",
    "200/60"
   ]
  },
  {
   "cell_type": "markdown",
   "id": "673fe51e-4bf3-4396-8ba2-f7dbb214110a",
   "metadata": {},
   "source": [
    "**Objectives:**\n",
    "\n",
    "- List popular languages for Data Science\n",
    "- Identify commonly used libraries by Data Scientists\n",
    "- Describe development environments used in Data Science\n",
    "- Perform basic arithmetic operations in Python\n",
    "- Convert units, such as minutes to hours, using Python expressions"
   ]
  },
  {
   "cell_type": "markdown",
   "id": "fc2a113c-7b19-4c04-a07d-b5177fd73f87",
   "metadata": {},
   "source": [
    "## Author\n",
    "\n",
    "Emre ilhan"
   ]
  },
  {
   "cell_type": "code",
   "execution_count": null,
   "id": "3f92af88-fc80-4cf2-ae5c-c4d0e9ad17cd",
   "metadata": {},
   "outputs": [],
   "source": []
  }
 ],
 "metadata": {
  "kernelspec": {
   "display_name": "Python 3 (ipykernel)",
   "language": "python",
   "name": "python3"
  },
  "language_info": {
   "codemirror_mode": {
    "name": "ipython",
    "version": 3
   },
   "file_extension": ".py",
   "mimetype": "text/x-python",
   "name": "python",
   "nbconvert_exporter": "python",
   "pygments_lexer": "ipython3",
   "version": "3.12.4"
  }
 },
 "nbformat": 4,
 "nbformat_minor": 5
}
